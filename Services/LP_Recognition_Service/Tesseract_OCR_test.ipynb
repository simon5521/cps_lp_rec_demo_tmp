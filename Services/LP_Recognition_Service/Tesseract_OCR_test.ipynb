{
 "cells": [
  {
   "cell_type": "code",
   "execution_count": 2,
   "metadata": {},
   "outputs": [],
   "source": [
    "\n",
    "# text recognition\n",
    "import cv2\n",
    "import pytesseract\n",
    "import numpy as np"
   ]
  },
  {
   "cell_type": "code",
   "execution_count": 3,
   "metadata": {
    "scrolled": true
   },
   "outputs": [
    {
     "name": "stdout",
     "output_type": "stream",
     "text": [
      "tno) hg\n",
      "\n",
      "BNLE-O003\n",
      "\n",
      "\n"
     ]
    }
   ],
   "source": [
    "\n",
    "im = cv2.imread('./lp4.jpeg')\n",
    "# configurations\n",
    "config = ('--oem 1 --psm 11')\n",
    "# pytessercat\n",
    "text = pytesseract.image_to_string(im, config=config)\n",
    "\n",
    "print(text)"
   ]
  },
  {
   "cell_type": "code",
   "execution_count": 4,
   "metadata": {},
   "outputs": [
    {
     "data": {
      "text/plain": [
       "'LL_#\\n\\n~MMSENE! E\\n\\n'"
      ]
     },
     "execution_count": 4,
     "metadata": {},
     "output_type": "execute_result"
    }
   ],
   "source": [
    "img = cv2.imread('lp4.jpeg')#Alternatively: can be skipped if you have a Blackwhite image\n",
    "gray = cv2.cvtColor(img, cv2.COLOR_RGB2GRAY)\n",
    "gray, img_bin = cv2.threshold(gray,128,255,cv2.THRESH_BINARY | cv2.THRESH_OTSU)\n",
    "gray = cv2.bitwise_not(img_bin)\n",
    "#kernel = np.ones((2, 1), np.uint8)\n",
    "#img = cv2.erode(gray, kernel, iterations=1)\n",
    "#img = cv2.dilate(img, kernel, iterations=1)\n",
    "config = ('--oem 1 --psm 11')\n",
    "out_below = pytesseract.image_to_string(gray,config=config)\n",
    "out_below"
   ]
  },
  {
   "cell_type": "code",
   "execution_count": null,
   "metadata": {},
   "outputs": [],
   "source": []
  }
 ],
 "metadata": {
  "kernelspec": {
   "display_name": "Python 3",
   "language": "python",
   "name": "python3"
  },
  "language_info": {
   "codemirror_mode": {
    "name": "ipython",
    "version": 3
   },
   "file_extension": ".py",
   "mimetype": "text/x-python",
   "name": "python",
   "nbconvert_exporter": "python",
   "pygments_lexer": "ipython3",
   "version": "3.8.3"
  }
 },
 "nbformat": 4,
 "nbformat_minor": 2
}
